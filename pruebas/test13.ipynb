{
 "cells": [
  {
   "cell_type": "code",
   "execution_count": 20,
   "id": "3342957f",
   "metadata": {},
   "outputs": [],
   "source": [
    "cadena = \"kayak\""
   ]
  },
  {
   "cell_type": "code",
   "execution_count": null,
   "id": "5bfd12d4",
   "metadata": {},
   "outputs": [
    {
     "name": "stdout",
     "output_type": "stream",
     "text": [
      "es un palindromo\n"
     ]
    }
   ],
   "source": [
    "#remplazar valores\n",
    "\n",
    "\n",
    "cadena = cadena.replace(\" \",\"\")\n",
    "\n",
    "#condiciones para comprobar si es un palindromo\n",
    "\n",
    "for i in range(len(cadena)):\n",
    "    if cadena[i] == cadena[(i*-1)-1]:\n",
    "        continue\n",
    "    else:\n",
    "        print(\"No es un palindromo\")\n",
    "        quit()\n",
    "    \n",
    "print(\"es un palindromo\")\n",
    "        "
   ]
  },
  {
   "cell_type": "code",
   "execution_count": 34,
   "id": "c971471d",
   "metadata": {},
   "outputs": [],
   "source": [
    "#anagramas\n",
    "\n",
    "cadena1 = \"raisl safety\"\n",
    "cadena2 = \"fairy tales\"\n"
   ]
  },
  {
   "cell_type": "code",
   "execution_count": 35,
   "id": "0fff6c11",
   "metadata": {},
   "outputs": [
    {
     "name": "stdout",
     "output_type": "stream",
     "text": [
      "No es anagrama\n"
     ]
    }
   ],
   "source": [
    "print(\"\" if sorted(cadena1.lower().replace(\" \",\"\")) == sorted(cadena2.lower().replace(\" \",\"\")) else \"No\", \"es anagrama\")"
   ]
  },
  {
   "cell_type": "code",
   "execution_count": 45,
   "id": "a41dceed",
   "metadata": {},
   "outputs": [],
   "source": [
    "#El digito de la vida\n",
    "\n",
    "cadena = input(\"Ingrese su cumpleaños en formato AAAAMMDD (sin - o / )\")\n",
    "#cadena = \"20030609\""
   ]
  },
  {
   "cell_type": "code",
   "execution_count": 46,
   "id": "213b2e3d",
   "metadata": {},
   "outputs": [
    {
     "name": "stdout",
     "output_type": "stream",
     "text": [
      "Tu numero de la vida es  6\n"
     ]
    }
   ],
   "source": [
    "suma = 0\n",
    "\n",
    "while True:\n",
    "    for i in range(len(str(cadena))):\n",
    "        suma= suma + int(str(cadena)[i])\n",
    "    if suma < 10:\n",
    "        print(\"Tu numero de la vida es \", suma)\n",
    "        break\n",
    "    else:\n",
    "        cadena = suma\n",
    "        suma = 0"
   ]
  }
 ],
 "metadata": {
  "kernelspec": {
   "display_name": "Python 3",
   "language": "python",
   "name": "python3"
  },
  "language_info": {
   "codemirror_mode": {
    "name": "ipython",
    "version": 3
   },
   "file_extension": ".py",
   "mimetype": "text/x-python",
   "name": "python",
   "nbconvert_exporter": "python",
   "pygments_lexer": "ipython3",
   "version": "3.12.3"
  }
 },
 "nbformat": 4,
 "nbformat_minor": 5
}
